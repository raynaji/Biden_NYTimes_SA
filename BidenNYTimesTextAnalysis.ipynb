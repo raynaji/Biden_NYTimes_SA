{
 "cells": [
  {
   "cell_type": "markdown",
   "metadata": {},
   "source": [
    "# Text Analysis on NYTimes Articles about 2020 primary election"
   ]
  },
  {
   "cell_type": "markdown",
   "metadata": {
    "toc": true
   },
   "source": [
    "<h1>Table of Contents<span class=\"tocSkip\"></span></h1>\n",
    "<div class=\"toc\"><ul class=\"toc-item\"><li><span><a href=\"#Text-Analysis-on-NYTimes-Articles-about-2020-primary-election\" data-toc-modified-id=\"Text-Analysis-on-NYTimes-Articles-about-2020-primary-election-1\">Text Analysis on NYTimes Articles about 2020 primary election</a></span><ul class=\"toc-item\"><li><span><a href=\"#Prepare-Data-for-Analysis\" data-toc-modified-id=\"Prepare-Data-for-Analysis-1.1\">Prepare Data for Analysis</a></span><ul class=\"toc-item\"><li><span><a href=\"#Get-the-data-into-a-data-frame-before-pre-processing\" data-toc-modified-id=\"Get-the-data-into-a-data-frame-before-pre-processing-1.1.1\">Get the data into a data frame before pre-processing</a></span></li><li><span><a href=\"#Convert-all-words-to-lowercase,-handle-negation,-and-remove-all-stop-words-and-punctuation.\" data-toc-modified-id=\"Convert-all-words-to-lowercase,-handle-negation,-and-remove-all-stop-words-and-punctuation.-1.1.2\">Convert all words to lowercase, handle negation, and remove all stop words and punctuation.</a></span></li><li><span><a href=\"#Stem-words-using-Porter-1979\" data-toc-modified-id=\"Stem-words-using-Porter-1979-1.1.3\">Stem words using Porter 1979</a></span></li></ul></li><li><span><a href=\"#Create-Bag-Of-Words-(BOW)-vector,-and-vectorize-each-article\" data-toc-modified-id=\"Create-Bag-Of-Words-(BOW)-vector,-and-vectorize-each-article-1.2\">Create Bag-Of-Words (BOW) vector, and vectorize each article</a></span></li><li><span><a href=\"#Topic-Modeling\" data-toc-modified-id=\"Topic-Modeling-1.3\">Topic Modeling</a></span></li><li><span><a href=\"#Number-of-Candidate-Mentions-in-Each-Article\" data-toc-modified-id=\"Number-of-Candidate-Mentions-in-Each-Article-1.4\">Number of Candidate Mentions in Each Article</a></span></li><li><span><a href=\"#Sentiment-Analysis\" data-toc-modified-id=\"Sentiment-Analysis-1.5\">Sentiment Analysis</a></span></li></ul></li></ul></div>"
   ]
  },
  {
   "cell_type": "code",
   "execution_count": 143,
   "metadata": {},
   "outputs": [],
   "source": [
    "import pandas as pd\n",
    "import numpy as np\n",
    "import json\n",
    "import os\n",
    "import nltk\n",
    "from nltk.corpus import stopwords\n",
    "from nltk.tokenize import RegexpTokenizer\n",
    "from nltk.stem import PorterStemmer\n",
    "import multiprocessing as mp\n",
    "import re\n",
    "from nltk.probability import FreqDist\n",
    "from sklearn.metrics.pairwise import euclidean_distances\n",
    "from sklearn.decomposition import PCA\n",
    "from sklearn.model_selection import train_test_split\n",
    "from sklearn.linear_model import LogisticRegression\n",
    "from sklearn.metrics import mean_absolute_error\n",
    "from sklearn.metrics import make_scorer\n",
    "from sklearn.metrics import accuracy_score\n",
    "from sklearn import preprocessing\n",
    "from sklearn.model_selection import cross_val_score\n",
    "from sklearn.decomposition import LatentDirichletAllocation as LDA"
   ]
  },
  {
   "cell_type": "markdown",
   "metadata": {},
   "source": [
    "## Prepare Data for Analysis"
   ]
  },
  {
   "cell_type": "markdown",
   "metadata": {},
   "source": [
    "### Get the data into a data frame before pre-processing "
   ]
  },
  {
   "cell_type": "code",
   "execution_count": 73,
   "metadata": {},
   "outputs": [],
   "source": [
    "#load the data into a dataframe\n",
    "with open('feb_dict.json', encoding=\"UTF-8\") as json_feb:\n",
    "    data = json.load(json_feb)\n",
    "    json_feb.close\n",
    "    \n",
    "feb_data = pd.DataFrame.from_dict(data, orient='index')\n",
    "    "
   ]
  },
  {
   "cell_type": "code",
   "execution_count": 74,
   "metadata": {},
   "outputs": [
    {
     "data": {
      "text/html": [
       "<div>\n",
       "<style scoped>\n",
       "    .dataframe tbody tr th:only-of-type {\n",
       "        vertical-align: middle;\n",
       "    }\n",
       "\n",
       "    .dataframe tbody tr th {\n",
       "        vertical-align: top;\n",
       "    }\n",
       "\n",
       "    .dataframe thead th {\n",
       "        text-align: right;\n",
       "    }\n",
       "</style>\n",
       "<table border=\"1\" class=\"dataframe\">\n",
       "  <thead>\n",
       "    <tr style=\"text-align: right;\">\n",
       "      <th></th>\n",
       "      <th>0</th>\n",
       "    </tr>\n",
       "  </thead>\n",
       "  <tbody>\n",
       "    <tr>\n",
       "      <th>10</th>\n",
       "      <td>Before the first votes are cast in the Democra...</td>\n",
       "    </tr>\n",
       "    <tr>\n",
       "      <th>11</th>\n",
       "      <td>DES MOINES — Once upon a time, the winner of t...</td>\n",
       "    </tr>\n",
       "    <tr>\n",
       "      <th>12</th>\n",
       "      <td>SIOUX CITY, Iowa — After a long campaign of id...</td>\n",
       "    </tr>\n",
       "    <tr>\n",
       "      <th>13</th>\n",
       "      <td>CENTERVILLE, Iowa — Jill Biden was torn. Three...</td>\n",
       "    </tr>\n",
       "    <tr>\n",
       "      <th>22</th>\n",
       "      <td>DES MOINES — For a full year, Democrats owned ...</td>\n",
       "    </tr>\n",
       "  </tbody>\n",
       "</table>\n",
       "</div>"
      ],
      "text/plain": [
       "                                                    0\n",
       "10  Before the first votes are cast in the Democra...\n",
       "11  DES MOINES — Once upon a time, the winner of t...\n",
       "12  SIOUX CITY, Iowa — After a long campaign of id...\n",
       "13  CENTERVILLE, Iowa — Jill Biden was torn. Three...\n",
       "22  DES MOINES — For a full year, Democrats owned ..."
      ]
     },
     "execution_count": 74,
     "metadata": {},
     "output_type": "execute_result"
    }
   ],
   "source": [
    "feb_data.head()"
   ]
  },
  {
   "cell_type": "code",
   "execution_count": 75,
   "metadata": {},
   "outputs": [],
   "source": [
    "feb_data = feb_data.reset_index()"
   ]
  },
  {
   "cell_type": "code",
   "execution_count": 76,
   "metadata": {},
   "outputs": [],
   "source": [
    "feb_data.columns = ['article_index','article_text']"
   ]
  },
  {
   "cell_type": "code",
   "execution_count": 84,
   "metadata": {},
   "outputs": [],
   "source": [
    "feb_data['article_index'] = feb_data.apply(lambda x: str(x['article_index'])+\"f\", axis=1)\n"
   ]
  },
  {
   "cell_type": "code",
   "execution_count": 85,
   "metadata": {},
   "outputs": [
    {
     "data": {
      "text/html": [
       "<div>\n",
       "<style scoped>\n",
       "    .dataframe tbody tr th:only-of-type {\n",
       "        vertical-align: middle;\n",
       "    }\n",
       "\n",
       "    .dataframe tbody tr th {\n",
       "        vertical-align: top;\n",
       "    }\n",
       "\n",
       "    .dataframe thead th {\n",
       "        text-align: right;\n",
       "    }\n",
       "</style>\n",
       "<table border=\"1\" class=\"dataframe\">\n",
       "  <thead>\n",
       "    <tr style=\"text-align: right;\">\n",
       "      <th></th>\n",
       "      <th>article_index</th>\n",
       "      <th>article_text</th>\n",
       "    </tr>\n",
       "  </thead>\n",
       "  <tbody>\n",
       "    <tr>\n",
       "      <th>0</th>\n",
       "      <td>10f</td>\n",
       "      <td>Before the first votes are cast in the Democra...</td>\n",
       "    </tr>\n",
       "    <tr>\n",
       "      <th>1</th>\n",
       "      <td>11f</td>\n",
       "      <td>DES MOINES — Once upon a time, the winner of t...</td>\n",
       "    </tr>\n",
       "    <tr>\n",
       "      <th>2</th>\n",
       "      <td>12f</td>\n",
       "      <td>SIOUX CITY, Iowa — After a long campaign of id...</td>\n",
       "    </tr>\n",
       "    <tr>\n",
       "      <th>3</th>\n",
       "      <td>13f</td>\n",
       "      <td>CENTERVILLE, Iowa — Jill Biden was torn. Three...</td>\n",
       "    </tr>\n",
       "    <tr>\n",
       "      <th>4</th>\n",
       "      <td>22f</td>\n",
       "      <td>DES MOINES — For a full year, Democrats owned ...</td>\n",
       "    </tr>\n",
       "  </tbody>\n",
       "</table>\n",
       "</div>"
      ],
      "text/plain": [
       "  article_index                                       article_text\n",
       "0           10f  Before the first votes are cast in the Democra...\n",
       "1           11f  DES MOINES — Once upon a time, the winner of t...\n",
       "2           12f  SIOUX CITY, Iowa — After a long campaign of id...\n",
       "3           13f  CENTERVILLE, Iowa — Jill Biden was torn. Three...\n",
       "4           22f  DES MOINES — For a full year, Democrats owned ..."
      ]
     },
     "execution_count": 85,
     "metadata": {},
     "output_type": "execute_result"
    }
   ],
   "source": [
    "feb_data.head()"
   ]
  },
  {
   "cell_type": "code",
   "execution_count": 86,
   "metadata": {},
   "outputs": [],
   "source": [
    "#load the march data into a dataframe\n",
    "with open('march_dict.json', encoding=\"UTF-8\") as json_march:\n",
    "    data = json.load(json_march)\n",
    "    json_march.close\n",
    "    \n",
    "march_data = pd.DataFrame.from_dict(data, orient='index')"
   ]
  },
  {
   "cell_type": "code",
   "execution_count": 87,
   "metadata": {},
   "outputs": [
    {
     "data": {
      "text/html": [
       "<div>\n",
       "<style scoped>\n",
       "    .dataframe tbody tr th:only-of-type {\n",
       "        vertical-align: middle;\n",
       "    }\n",
       "\n",
       "    .dataframe tbody tr th {\n",
       "        vertical-align: top;\n",
       "    }\n",
       "\n",
       "    .dataframe thead th {\n",
       "        text-align: right;\n",
       "    }\n",
       "</style>\n",
       "<table border=\"1\" class=\"dataframe\">\n",
       "  <thead>\n",
       "    <tr style=\"text-align: right;\">\n",
       "      <th></th>\n",
       "      <th>0</th>\n",
       "    </tr>\n",
       "  </thead>\n",
       "  <tbody>\n",
       "    <tr>\n",
       "      <th>10</th>\n",
       "      <td>There was no drama this time, and no delay: Wi...</td>\n",
       "    </tr>\n",
       "    <tr>\n",
       "      <th>17</th>\n",
       "      <td>WASHINGTON — The Supreme Court agreed on Monda...</td>\n",
       "    </tr>\n",
       "    <tr>\n",
       "      <th>18</th>\n",
       "      <td>To the Editor: Re “No, Not Sanders, Not Ever,”...</td>\n",
       "    </tr>\n",
       "    <tr>\n",
       "      <th>22</th>\n",
       "      <td>To the Editor: Re “Democratic Race Resets as B...</td>\n",
       "    </tr>\n",
       "    <tr>\n",
       "      <th>24</th>\n",
       "      <td>WASHINGTON — President Trump returned on Monda...</td>\n",
       "    </tr>\n",
       "  </tbody>\n",
       "</table>\n",
       "</div>"
      ],
      "text/plain": [
       "                                                    0\n",
       "10  There was no drama this time, and no delay: Wi...\n",
       "17  WASHINGTON — The Supreme Court agreed on Monda...\n",
       "18  To the Editor: Re “No, Not Sanders, Not Ever,”...\n",
       "22  To the Editor: Re “Democratic Race Resets as B...\n",
       "24  WASHINGTON — President Trump returned on Monda..."
      ]
     },
     "execution_count": 87,
     "metadata": {},
     "output_type": "execute_result"
    }
   ],
   "source": [
    "march_data.head()"
   ]
  },
  {
   "cell_type": "code",
   "execution_count": 89,
   "metadata": {},
   "outputs": [],
   "source": [
    "march_data = march_data.reset_index()"
   ]
  },
  {
   "cell_type": "code",
   "execution_count": 90,
   "metadata": {},
   "outputs": [],
   "source": [
    "march_data.columns = ['article_index','article_text']"
   ]
  },
  {
   "cell_type": "code",
   "execution_count": 91,
   "metadata": {},
   "outputs": [],
   "source": [
    "march_data['article_index'] = march_data.apply(lambda x: str(x['article_index'])+\"m\", axis=1)\n"
   ]
  },
  {
   "cell_type": "code",
   "execution_count": 92,
   "metadata": {},
   "outputs": [],
   "source": [
    "all_articles = feb_data.append(march_data)"
   ]
  },
  {
   "cell_type": "code",
   "execution_count": 93,
   "metadata": {
    "scrolled": true
   },
   "outputs": [],
   "source": [
    "all_articles = all_articles.reset_index(drop=True)"
   ]
  },
  {
   "cell_type": "code",
   "execution_count": 94,
   "metadata": {},
   "outputs": [
    {
     "data": {
      "text/html": [
       "<div>\n",
       "<style scoped>\n",
       "    .dataframe tbody tr th:only-of-type {\n",
       "        vertical-align: middle;\n",
       "    }\n",
       "\n",
       "    .dataframe tbody tr th {\n",
       "        vertical-align: top;\n",
       "    }\n",
       "\n",
       "    .dataframe thead th {\n",
       "        text-align: right;\n",
       "    }\n",
       "</style>\n",
       "<table border=\"1\" class=\"dataframe\">\n",
       "  <thead>\n",
       "    <tr style=\"text-align: right;\">\n",
       "      <th></th>\n",
       "      <th>article_index</th>\n",
       "      <th>article_text</th>\n",
       "    </tr>\n",
       "  </thead>\n",
       "  <tbody>\n",
       "    <tr>\n",
       "      <th>0</th>\n",
       "      <td>10f</td>\n",
       "      <td>Before the first votes are cast in the Democra...</td>\n",
       "    </tr>\n",
       "    <tr>\n",
       "      <th>1</th>\n",
       "      <td>11f</td>\n",
       "      <td>DES MOINES — Once upon a time, the winner of t...</td>\n",
       "    </tr>\n",
       "    <tr>\n",
       "      <th>2</th>\n",
       "      <td>12f</td>\n",
       "      <td>SIOUX CITY, Iowa — After a long campaign of id...</td>\n",
       "    </tr>\n",
       "    <tr>\n",
       "      <th>3</th>\n",
       "      <td>13f</td>\n",
       "      <td>CENTERVILLE, Iowa — Jill Biden was torn. Three...</td>\n",
       "    </tr>\n",
       "    <tr>\n",
       "      <th>4</th>\n",
       "      <td>22f</td>\n",
       "      <td>DES MOINES — For a full year, Democrats owned ...</td>\n",
       "    </tr>\n",
       "  </tbody>\n",
       "</table>\n",
       "</div>"
      ],
      "text/plain": [
       "  article_index                                       article_text\n",
       "0           10f  Before the first votes are cast in the Democra...\n",
       "1           11f  DES MOINES — Once upon a time, the winner of t...\n",
       "2           12f  SIOUX CITY, Iowa — After a long campaign of id...\n",
       "3           13f  CENTERVILLE, Iowa — Jill Biden was torn. Three...\n",
       "4           22f  DES MOINES — For a full year, Democrats owned ..."
      ]
     },
     "execution_count": 94,
     "metadata": {},
     "output_type": "execute_result"
    }
   ],
   "source": [
    "all_articles.head()"
   ]
  },
  {
   "cell_type": "markdown",
   "metadata": {},
   "source": [
    "### Convert all words to lowercase, handle negation, and remove all stop words and punctuation."
   ]
  },
  {
   "cell_type": "code",
   "execution_count": 95,
   "metadata": {},
   "outputs": [],
   "source": [
    "def text_preprocess(raw_text):\n",
    "    \"\"\"\n",
    "    text preprocess function that convert input text to lower case, split negation with \"n't\" into \"not\",\n",
    "    remove stop words and punctuations, and finally combine \"not\" into the next word.\n",
    "    \"\"\"\n",
    "    # convert to lower case\n",
    "    temp = raw_text.lower()\n",
    "    \n",
    "    # split n't from negation words.\n",
    "    temp = re.sub(\"n't\", \" not\", temp.strip())\n",
    "    \n",
    "    # tokenize only the words\n",
    "    tokenizer = RegexpTokenizer(r'\\w+')\n",
    "    temp = tokenizer.tokenize(temp)\n",
    "    \n",
    "    # remove stop words using existing NLTK library \n",
    "    stop_words = set(stopwords.words('english'))\n",
    "    stop_words.remove('not')\n",
    "    temp = [w for w in temp if not w in stop_words]\n",
    "    \n",
    "    # negation handling\n",
    "    def neg_tag(tk):\n",
    "        tbpoped = []\n",
    "        for index, w in enumerate(tk):\n",
    "            if w == \"not\":\n",
    "                if index < len(tk)-1:\n",
    "                    tbpoped.append(index)\n",
    "                    tk[index+1]=\"not_\"+tk[index+1]\n",
    "                    \n",
    "        tk = [v for i,v in enumerate(tk) if i not in tbpoped]\n",
    "        return tk\n",
    "    \n",
    "    processed_txt = neg_tag(temp)\n",
    "    \n",
    "    return processed_txt"
   ]
  },
  {
   "cell_type": "code",
   "execution_count": 96,
   "metadata": {},
   "outputs": [],
   "source": [
    "# use parallel processing to preprocess text\n",
    "article_text_list = list(all_articles['article_text'])\n",
    "\n",
    "cores = mp.cpu_count()\n",
    "pool = mp.Pool(cores)\n",
    "txt_rdy = pool.map(text_preprocess, article_text_list)\n",
    "pool.terminate()\n",
    "pool.join() "
   ]
  },
  {
   "cell_type": "markdown",
   "metadata": {},
   "source": [
    "### Stem words using Porter 1979"
   ]
  },
  {
   "cell_type": "code",
   "execution_count": 97,
   "metadata": {},
   "outputs": [],
   "source": [
    "def stemming(tk):\n",
    "    \"\"\"\n",
    "    stemming function using Porter 1979 Stemmer. The input is a list of tokenized text.\n",
    "    \"\"\"\n",
    "    ps = PorterStemmer()\n",
    "    stemmed = []\n",
    "    for w in tk:\n",
    "        stemmed.append(ps.stem(w))\n",
    "    return stemmed"
   ]
  },
  {
   "cell_type": "code",
   "execution_count": 98,
   "metadata": {},
   "outputs": [],
   "source": [
    "# use parallel processing to stem the words\n",
    "pool = mp.Pool(cores)\n",
    "txt_stem = pool.map(stemming, txt_rdy)\n",
    "pool.terminate()\n",
    "pool.join() "
   ]
  },
  {
   "cell_type": "code",
   "execution_count": 99,
   "metadata": {},
   "outputs": [],
   "source": [
    "articles_stemmed = []\n",
    "for word_list in txt_stem:\n",
    "    article = ' '.join([str(word) for word in word_list])\n",
    "    articles_stemmed.append(article)"
   ]
  },
  {
   "cell_type": "code",
   "execution_count": 100,
   "metadata": {},
   "outputs": [],
   "source": [
    "all_articles['stemmed'] = pd.Series(articles_stemmed)"
   ]
  },
  {
   "cell_type": "code",
   "execution_count": 101,
   "metadata": {},
   "outputs": [
    {
     "data": {
      "text/html": [
       "<div>\n",
       "<style scoped>\n",
       "    .dataframe tbody tr th:only-of-type {\n",
       "        vertical-align: middle;\n",
       "    }\n",
       "\n",
       "    .dataframe tbody tr th {\n",
       "        vertical-align: top;\n",
       "    }\n",
       "\n",
       "    .dataframe thead th {\n",
       "        text-align: right;\n",
       "    }\n",
       "</style>\n",
       "<table border=\"1\" class=\"dataframe\">\n",
       "  <thead>\n",
       "    <tr style=\"text-align: right;\">\n",
       "      <th></th>\n",
       "      <th>article_index</th>\n",
       "      <th>article_text</th>\n",
       "      <th>stemmed</th>\n",
       "    </tr>\n",
       "  </thead>\n",
       "  <tbody>\n",
       "    <tr>\n",
       "      <th>0</th>\n",
       "      <td>10f</td>\n",
       "      <td>Before the first votes are cast in the Democra...</td>\n",
       "      <td>first vote cast democrat presidenti contest ne...</td>\n",
       "    </tr>\n",
       "    <tr>\n",
       "      <th>1</th>\n",
       "      <td>11f</td>\n",
       "      <td>DES MOINES — Once upon a time, the winner of t...</td>\n",
       "      <td>de moin upon time winner iowa caucus obviou ev...</td>\n",
       "    </tr>\n",
       "    <tr>\n",
       "      <th>2</th>\n",
       "      <td>12f</td>\n",
       "      <td>SIOUX CITY, Iowa — After a long campaign of id...</td>\n",
       "      <td>sioux citi iowa long campaign ideolog clash po...</td>\n",
       "    </tr>\n",
       "    <tr>\n",
       "      <th>3</th>\n",
       "      <td>13f</td>\n",
       "      <td>CENTERVILLE, Iowa — Jill Biden was torn. Three...</td>\n",
       "      <td>centervil iowa jill biden torn three month jos...</td>\n",
       "    </tr>\n",
       "    <tr>\n",
       "      <th>4</th>\n",
       "      <td>22f</td>\n",
       "      <td>DES MOINES — For a full year, Democrats owned ...</td>\n",
       "      <td>de moin full year democrat own iowa spotlight ...</td>\n",
       "    </tr>\n",
       "  </tbody>\n",
       "</table>\n",
       "</div>"
      ],
      "text/plain": [
       "  article_index                                       article_text  \\\n",
       "0           10f  Before the first votes are cast in the Democra...   \n",
       "1           11f  DES MOINES — Once upon a time, the winner of t...   \n",
       "2           12f  SIOUX CITY, Iowa — After a long campaign of id...   \n",
       "3           13f  CENTERVILLE, Iowa — Jill Biden was torn. Three...   \n",
       "4           22f  DES MOINES — For a full year, Democrats owned ...   \n",
       "\n",
       "                                             stemmed  \n",
       "0  first vote cast democrat presidenti contest ne...  \n",
       "1  de moin upon time winner iowa caucus obviou ev...  \n",
       "2  sioux citi iowa long campaign ideolog clash po...  \n",
       "3  centervil iowa jill biden torn three month jos...  \n",
       "4  de moin full year democrat own iowa spotlight ...  "
      ]
     },
     "execution_count": 101,
     "metadata": {},
     "output_type": "execute_result"
    }
   ],
   "source": [
    "all_articles.head()"
   ]
  },
  {
   "cell_type": "code",
   "execution_count": 225,
   "metadata": {},
   "outputs": [
    {
     "data": {
      "text/plain": [
       "839"
      ]
     },
     "execution_count": 225,
     "metadata": {},
     "output_type": "execute_result"
    }
   ],
   "source": [
    "len(all_articles)"
   ]
  },
  {
   "cell_type": "markdown",
   "metadata": {},
   "source": [
    "## Create Bag-Of-Words (BOW) vector, and vectorize each article "
   ]
  },
  {
   "cell_type": "code",
   "execution_count": 102,
   "metadata": {},
   "outputs": [],
   "source": [
    "# flat list to take all tokens from the review.\n",
    "flat_list = [token for article_tokens in txt_stem for token in article_tokens]"
   ]
  },
  {
   "cell_type": "code",
   "execution_count": 103,
   "metadata": {},
   "outputs": [],
   "source": [
    "# find the most frequent 500 words (bag of words)\n",
    "fdist = FreqDist(flat_list)\n",
    "most_freq = dict(fdist.most_common(500))\n",
    "\n",
    "# get the list of actual words\n",
    "words = []\n",
    "for key in most_freq:\n",
    "    words.append(key)"
   ]
  },
  {
   "cell_type": "code",
   "execution_count": 104,
   "metadata": {},
   "outputs": [
    {
     "data": {
      "text/plain": [
       "['mr',\n",
       " 'said',\n",
       " 'democrat',\n",
       " 'trump',\n",
       " 'sander',\n",
       " 'presid',\n",
       " 'state',\n",
       " 'campaign',\n",
       " 'biden',\n",
       " 'new',\n",
       " 'candid',\n",
       " 'would',\n",
       " 'one',\n",
       " 'bloomberg',\n",
       " 'senat',\n",
       " 'ms',\n",
       " 'vote',\n",
       " 'parti',\n",
       " 'like',\n",
       " 'support',\n",
       " 'iowa',\n",
       " 'year',\n",
       " 'peopl',\n",
       " 'time',\n",
       " 'voter',\n",
       " 'buttigieg',\n",
       " 'polit',\n",
       " 'elect',\n",
       " 'former',\n",
       " 'warren',\n",
       " 'also',\n",
       " 'first',\n",
       " 'primari',\n",
       " 'american',\n",
       " 'even',\n",
       " 'two',\n",
       " 'say',\n",
       " 'make',\n",
       " 'last',\n",
       " 'republican',\n",
       " 'go',\n",
       " 'could',\n",
       " 'day',\n",
       " 'week',\n",
       " 'mani',\n",
       " 'get',\n",
       " 'race',\n",
       " 'nation',\n",
       " 'south',\n",
       " 'call',\n",
       " 'report',\n",
       " 'percent',\n",
       " 'work',\n",
       " 'hous',\n",
       " 'result',\n",
       " 'poll',\n",
       " 'tuesday',\n",
       " 'hampshir',\n",
       " 'debat',\n",
       " 'win',\n",
       " 'show',\n",
       " 'want',\n",
       " 'berni',\n",
       " 'presidenti',\n",
       " 'think',\n",
       " 'offici',\n",
       " 'ad',\n",
       " 'nevada',\n",
       " 'countri',\n",
       " 'mayor',\n",
       " 'caucus',\n",
       " 'way',\n",
       " 'includ',\n",
       " 'deleg',\n",
       " 'take',\n",
       " 'much',\n",
       " 'tri',\n",
       " 'nomin',\n",
       " 'klobuchar',\n",
       " 'million',\n",
       " 'right',\n",
       " 'carolina',\n",
       " 'black',\n",
       " 'back',\n",
       " 'come',\n",
       " 'run',\n",
       " 'night',\n",
       " 'plan',\n",
       " 'know',\n",
       " 'white',\n",
       " 'three',\n",
       " 'still',\n",
       " 'made',\n",
       " 'well',\n",
       " 'use',\n",
       " 'month',\n",
       " 'look',\n",
       " 'recent',\n",
       " 'point',\n",
       " 'york',\n",
       " 'public',\n",
       " 'gener',\n",
       " 'among',\n",
       " 'question',\n",
       " 'impeach',\n",
       " 'health',\n",
       " 'person',\n",
       " 'see',\n",
       " 'anoth',\n",
       " 'help',\n",
       " 'may',\n",
       " '2016',\n",
       " 'critic',\n",
       " 'super',\n",
       " 'long',\n",
       " 'chang',\n",
       " 'lead',\n",
       " 'case',\n",
       " 'news',\n",
       " 'major',\n",
       " 'need',\n",
       " 'compani',\n",
       " 'place',\n",
       " 'end',\n",
       " 'govern',\n",
       " 'told',\n",
       " 'earli',\n",
       " 'power',\n",
       " 'caucu',\n",
       " 'ask',\n",
       " 'citi',\n",
       " 'accord',\n",
       " 'money',\n",
       " 'far',\n",
       " 'rais',\n",
       " 'top',\n",
       " 'us',\n",
       " 'leader',\n",
       " 'might',\n",
       " 'care',\n",
       " 'polici',\n",
       " 'attack',\n",
       " 'moder',\n",
       " 'repres',\n",
       " 'left',\n",
       " 'thing',\n",
       " 'group',\n",
       " 'r',\n",
       " 'face',\n",
       " 'unit',\n",
       " 'four',\n",
       " '000',\n",
       " 'live',\n",
       " 'part',\n",
       " 'pete',\n",
       " 'talk',\n",
       " 'rival',\n",
       " 'sinc',\n",
       " 'vice',\n",
       " 'offic',\n",
       " 'issu',\n",
       " 'appear',\n",
       " 'fund',\n",
       " 'good',\n",
       " 'number',\n",
       " 'contest',\n",
       " 'close',\n",
       " 'turn',\n",
       " 'obama',\n",
       " 'union',\n",
       " 'sign',\n",
       " 'less',\n",
       " 'around',\n",
       " 'member',\n",
       " 'media',\n",
       " 'michael',\n",
       " 'next',\n",
       " 'past',\n",
       " 'put',\n",
       " 'hope',\n",
       " 'best',\n",
       " 'washington',\n",
       " 'start',\n",
       " 'billionair',\n",
       " 'big',\n",
       " 'seem',\n",
       " 'believ',\n",
       " 'second',\n",
       " '1',\n",
       " 'elizabeth',\n",
       " 'never',\n",
       " 'lot',\n",
       " 'event',\n",
       " 'tax',\n",
       " 'record',\n",
       " 'whether',\n",
       " 'steyer',\n",
       " 'team',\n",
       " 'move',\n",
       " 'intellig',\n",
       " 'stop',\n",
       " 'came',\n",
       " 'effort',\n",
       " 'later',\n",
       " 'monday',\n",
       " 'everi',\n",
       " 'c',\n",
       " 'investig',\n",
       " 'suggest',\n",
       " 'wednesday',\n",
       " 'administr',\n",
       " 'saturday',\n",
       " 'california',\n",
       " 'though',\n",
       " 'got',\n",
       " 'releas',\n",
       " 'social',\n",
       " 'system',\n",
       " 'victori',\n",
       " 'brief',\n",
       " 'becom',\n",
       " 'organ',\n",
       " 'expect',\n",
       " 'process',\n",
       " 'world',\n",
       " 'justic',\n",
       " 'sever',\n",
       " 'interview',\n",
       " 'better',\n",
       " 'give',\n",
       " 'twitter',\n",
       " 'final',\n",
       " 'base',\n",
       " 'differ',\n",
       " 'advis',\n",
       " '2020',\n",
       " 'line',\n",
       " 'nomine',\n",
       " 'claim',\n",
       " 'least',\n",
       " 'remain',\n",
       " 'set',\n",
       " 'precinct',\n",
       " 'aid',\n",
       " 'decis',\n",
       " 'spend',\n",
       " 'joe',\n",
       " 'women',\n",
       " 'america',\n",
       " 'secur',\n",
       " 'larg',\n",
       " 'busi',\n",
       " 'took',\n",
       " 'someth',\n",
       " 'finish',\n",
       " 'realli',\n",
       " 'found',\n",
       " 'clear',\n",
       " 'progress',\n",
       " 'messag',\n",
       " 'littl',\n",
       " 'front',\n",
       " 'forc',\n",
       " 'donald',\n",
       " 'home',\n",
       " 'clinton',\n",
       " 'happen',\n",
       " 'nearli',\n",
       " 'keep',\n",
       " 'u',\n",
       " 'across',\n",
       " 'famili',\n",
       " 'trial',\n",
       " 'law',\n",
       " 'play',\n",
       " 'mean',\n",
       " 'post',\n",
       " 'depart',\n",
       " 'follow',\n",
       " 'feel',\n",
       " 'without',\n",
       " 'argu',\n",
       " 'today',\n",
       " 'ami',\n",
       " 'china',\n",
       " 'jr',\n",
       " 'respons',\n",
       " 'job',\n",
       " 'posit',\n",
       " 'center',\n",
       " 'announc',\n",
       " '10',\n",
       " 'behind',\n",
       " 'alreadi',\n",
       " 'continu',\n",
       " 'yet',\n",
       " 'high',\n",
       " 'speech',\n",
       " 'address',\n",
       " 'ago',\n",
       " 'third',\n",
       " 'manag',\n",
       " 'name',\n",
       " 'commun',\n",
       " 'ralli',\n",
       " 'head',\n",
       " 'hold',\n",
       " 'ukrain',\n",
       " 'committe',\n",
       " 'read',\n",
       " 'joseph',\n",
       " 'market',\n",
       " 'russia',\n",
       " 'financi',\n",
       " 'hour',\n",
       " 'possibl',\n",
       " 'hand',\n",
       " 'whose',\n",
       " 'viru',\n",
       " 'old',\n",
       " 'went',\n",
       " 'deal',\n",
       " 'coronaviru',\n",
       " 'field',\n",
       " 'let',\n",
       " 'rule',\n",
       " 'endors',\n",
       " 'chanc',\n",
       " 'perform',\n",
       " '3',\n",
       " 'friday',\n",
       " 'econom',\n",
       " 'propos',\n",
       " 'moment',\n",
       " 'vermont',\n",
       " 'idea',\n",
       " 'away',\n",
       " 'began',\n",
       " 'strong',\n",
       " 'offer',\n",
       " 'email',\n",
       " 'economi',\n",
       " 'histori',\n",
       " 'pay',\n",
       " 'stori',\n",
       " 'write',\n",
       " 'spent',\n",
       " 'wrote',\n",
       " 'enough',\n",
       " 'privat',\n",
       " 'univers',\n",
       " 'often',\n",
       " 'choic',\n",
       " 'open',\n",
       " 'share',\n",
       " 'deliv',\n",
       " 'congress',\n",
       " 'speak',\n",
       " 'count',\n",
       " 'kind',\n",
       " 'feder',\n",
       " 'consid',\n",
       " 'real',\n",
       " 'fight',\n",
       " 'concern',\n",
       " 'chief',\n",
       " '2',\n",
       " 'vega',\n",
       " 'liber',\n",
       " 'challeng',\n",
       " 'watch',\n",
       " 'bend',\n",
       " 'morn',\n",
       " 'la',\n",
       " 'build',\n",
       " 'receiv',\n",
       " 'stand',\n",
       " 'allow',\n",
       " 'tell',\n",
       " 'problem',\n",
       " 'latino',\n",
       " '2018',\n",
       " 'comment',\n",
       " 'done',\n",
       " 'court',\n",
       " 'life',\n",
       " 'decad',\n",
       " 'bill',\n",
       " 'n',\n",
       " 'elector',\n",
       " 'young',\n",
       " 'view',\n",
       " 'statement',\n",
       " 'sunday',\n",
       " 'import',\n",
       " 'thought',\n",
       " 'worker',\n",
       " 'march',\n",
       " 'control',\n",
       " 'experi',\n",
       " 'small',\n",
       " 'act',\n",
       " 'evid',\n",
       " 'director',\n",
       " 'creat',\n",
       " 'beat',\n",
       " 'medicar',\n",
       " 'fact',\n",
       " 'inform',\n",
       " 'staff',\n",
       " 'matter',\n",
       " 'great',\n",
       " 'find',\n",
       " 'p',\n",
       " 'current',\n",
       " 'convent',\n",
       " 'term',\n",
       " 'hear',\n",
       " 'stage',\n",
       " 'execut',\n",
       " 'meet',\n",
       " 'other',\n",
       " 'return',\n",
       " 'potenti',\n",
       " 'counti',\n",
       " 'actual',\n",
       " 'effect',\n",
       " 'thursday',\n",
       " 'provid',\n",
       " 'cut',\n",
       " 'especi',\n",
       " 'ever',\n",
       " 'note',\n",
       " 'billion',\n",
       " 'five',\n",
       " 'ahead',\n",
       " 'buy',\n",
       " 'massachusett',\n",
       " 'de',\n",
       " 'success',\n",
       " '15',\n",
       " 'late',\n",
       " 'rate',\n",
       " 'crowd',\n",
       " 'runner',\n",
       " 'push',\n",
       " 'struggl',\n",
       " 'man',\n",
       " 'charg',\n",
       " 'fall',\n",
       " 'colleg',\n",
       " 'fear',\n",
       " 'school',\n",
       " 'mike',\n",
       " '5',\n",
       " 'televis',\n",
       " 'outbreak',\n",
       " 'reason',\n",
       " 'singl',\n",
       " 'leav',\n",
       " 'bring',\n",
       " 'anyth',\n",
       " 'russian',\n",
       " 'toward',\n",
       " 'alli',\n",
       " 'interest',\n",
       " 'data',\n",
       " 'african',\n",
       " 'favor',\n",
       " 'seen',\n",
       " 'tweet',\n",
       " 'rise',\n",
       " 'describ',\n",
       " 'hard',\n",
       " 'direct',\n",
       " 'accus',\n",
       " 'appeal',\n",
       " 'warn',\n",
       " 'self',\n",
       " 'socialist',\n",
       " 'crisi',\n",
       " 'love',\n",
       " 'friend',\n",
       " 'drop',\n",
       " 'known',\n",
       " 'ballot',\n",
       " 'involv',\n",
       " 'cost',\n",
       " 'popular',\n",
       " 'establish',\n",
       " 'total',\n",
       " 'instead',\n",
       " 'immigr',\n",
       " 'novemb',\n",
       " 'answer',\n",
       " 'defeat',\n",
       " 'test',\n",
       " 'argument',\n",
       " 'class',\n",
       " 'fire']"
      ]
     },
     "execution_count": 104,
     "metadata": {},
     "output_type": "execute_result"
    }
   ],
   "source": [
    "words"
   ]
  },
  {
   "cell_type": "code",
   "execution_count": 105,
   "metadata": {},
   "outputs": [],
   "source": [
    "def vectorize(tks):\n",
    "    \"\"\"\n",
    "    vectorize a list of tokenized words according to the pre-defined BoW. \n",
    "    Words appeard in the article is vectorized into 1.\n",
    "    \"\"\"\n",
    "    vector = []\n",
    "    for w in words:\n",
    "        if w in tks:\n",
    "            vector.append(1)\n",
    "        else:\n",
    "            vector.append(0)\n",
    "    return vector"
   ]
  },
  {
   "cell_type": "code",
   "execution_count": 106,
   "metadata": {},
   "outputs": [],
   "source": [
    "# using parallel processing to vectorize the words for each article\n",
    "pool = mp.Pool(cores)\n",
    "word_vec = pool.map(vectorize, txt_stem)\n",
    "pool.terminate()\n",
    "pool.join() "
   ]
  },
  {
   "cell_type": "code",
   "execution_count": 107,
   "metadata": {},
   "outputs": [],
   "source": [
    "all_articles['word_vec'] = pd.Series(word_vec)"
   ]
  },
  {
   "cell_type": "code",
   "execution_count": 108,
   "metadata": {
    "scrolled": true
   },
   "outputs": [
    {
     "data": {
      "text/html": [
       "<div>\n",
       "<style scoped>\n",
       "    .dataframe tbody tr th:only-of-type {\n",
       "        vertical-align: middle;\n",
       "    }\n",
       "\n",
       "    .dataframe tbody tr th {\n",
       "        vertical-align: top;\n",
       "    }\n",
       "\n",
       "    .dataframe thead th {\n",
       "        text-align: right;\n",
       "    }\n",
       "</style>\n",
       "<table border=\"1\" class=\"dataframe\">\n",
       "  <thead>\n",
       "    <tr style=\"text-align: right;\">\n",
       "      <th></th>\n",
       "      <th>article_index</th>\n",
       "      <th>article_text</th>\n",
       "      <th>stemmed</th>\n",
       "      <th>word_vec</th>\n",
       "    </tr>\n",
       "  </thead>\n",
       "  <tbody>\n",
       "    <tr>\n",
       "      <th>0</th>\n",
       "      <td>10f</td>\n",
       "      <td>Before the first votes are cast in the Democra...</td>\n",
       "      <td>first vote cast democrat presidenti contest ne...</td>\n",
       "      <td>[1, 1, 1, 1, 1, 1, 1, 1, 1, 1, 1, 1, 1, 0, 1, ...</td>\n",
       "    </tr>\n",
       "    <tr>\n",
       "      <th>1</th>\n",
       "      <td>11f</td>\n",
       "      <td>DES MOINES — Once upon a time, the winner of t...</td>\n",
       "      <td>de moin upon time winner iowa caucus obviou ev...</td>\n",
       "      <td>[1, 1, 1, 0, 1, 0, 1, 1, 1, 1, 1, 1, 1, 1, 0, ...</td>\n",
       "    </tr>\n",
       "    <tr>\n",
       "      <th>2</th>\n",
       "      <td>12f</td>\n",
       "      <td>SIOUX CITY, Iowa — After a long campaign of id...</td>\n",
       "      <td>sioux citi iowa long campaign ideolog clash po...</td>\n",
       "      <td>[1, 1, 1, 1, 1, 1, 1, 1, 1, 1, 1, 1, 1, 0, 1, ...</td>\n",
       "    </tr>\n",
       "    <tr>\n",
       "      <th>3</th>\n",
       "      <td>13f</td>\n",
       "      <td>CENTERVILLE, Iowa — Jill Biden was torn. Three...</td>\n",
       "      <td>centervil iowa jill biden torn three month jos...</td>\n",
       "      <td>[1, 1, 1, 1, 0, 1, 1, 1, 1, 1, 0, 1, 1, 0, 1, ...</td>\n",
       "    </tr>\n",
       "    <tr>\n",
       "      <th>4</th>\n",
       "      <td>22f</td>\n",
       "      <td>DES MOINES — For a full year, Democrats owned ...</td>\n",
       "      <td>de moin full year democrat own iowa spotlight ...</td>\n",
       "      <td>[1, 1, 1, 1, 1, 1, 1, 1, 1, 1, 1, 1, 1, 0, 1, ...</td>\n",
       "    </tr>\n",
       "  </tbody>\n",
       "</table>\n",
       "</div>"
      ],
      "text/plain": [
       "  article_index                                       article_text  \\\n",
       "0           10f  Before the first votes are cast in the Democra...   \n",
       "1           11f  DES MOINES — Once upon a time, the winner of t...   \n",
       "2           12f  SIOUX CITY, Iowa — After a long campaign of id...   \n",
       "3           13f  CENTERVILLE, Iowa — Jill Biden was torn. Three...   \n",
       "4           22f  DES MOINES — For a full year, Democrats owned ...   \n",
       "\n",
       "                                             stemmed  \\\n",
       "0  first vote cast democrat presidenti contest ne...   \n",
       "1  de moin upon time winner iowa caucus obviou ev...   \n",
       "2  sioux citi iowa long campaign ideolog clash po...   \n",
       "3  centervil iowa jill biden torn three month jos...   \n",
       "4  de moin full year democrat own iowa spotlight ...   \n",
       "\n",
       "                                            word_vec  \n",
       "0  [1, 1, 1, 1, 1, 1, 1, 1, 1, 1, 1, 1, 1, 0, 1, ...  \n",
       "1  [1, 1, 1, 0, 1, 0, 1, 1, 1, 1, 1, 1, 1, 1, 0, ...  \n",
       "2  [1, 1, 1, 1, 1, 1, 1, 1, 1, 1, 1, 1, 1, 0, 1, ...  \n",
       "3  [1, 1, 1, 1, 0, 1, 1, 1, 1, 1, 0, 1, 1, 0, 1, ...  \n",
       "4  [1, 1, 1, 1, 1, 1, 1, 1, 1, 1, 1, 1, 1, 0, 1, ...  "
      ]
     },
     "execution_count": 108,
     "metadata": {},
     "output_type": "execute_result"
    }
   ],
   "source": [
    "all_articles.head()"
   ]
  },
  {
   "cell_type": "markdown",
   "metadata": {},
   "source": [
    "## Topic Modeling"
   ]
  },
  {
   "cell_type": "code",
   "execution_count": 167,
   "metadata": {},
   "outputs": [
    {
     "data": {
      "image/png": "[encoded data removed]",
      "text/plain": [
       "<PIL.Image.Image image mode=RGB size=400x200 at 0x1A2D6987B8>"
      ]
     },
     "execution_count": 167,
     "metadata": {},
     "output_type": "execute_result"
    }
   ],
   "source": [
    "# Import the wordcloud library\n",
    "from wordcloud import WordCloud\n",
    "\n",
    "# Join the different processed titles together.\n",
    "long_string = ' '.join(list(all_articles['stemmed'].values))\n",
    "\n",
    "# Create a WordCloud object\n",
    "wordcloud = WordCloud(background_color=\"white\", max_words=1000, contour_width=3, contour_color='steelblue')\n",
    "\n",
    "# Generate a word cloud\n",
    "wordcloud.generate(long_string)\n",
    "\n",
    "# Visualize the word cloud\n",
    "wordcloud.to_image()"
   ]
  },
  {
   "cell_type": "code",
   "execution_count": 168,
   "metadata": {},
   "outputs": [],
   "source": [
    "import matplotlib.pyplot as plt\n",
    "import seaborn as sns\n",
    "sns.set_style('whitegrid')\n",
    "%matplotlib inline\n",
    "\n",
    "import matplotlib.pyplot as plt\n",
    "total_counts = list(np.zeros(len(words)))\n",
    "\n",
    "for i in range(len(words)):\n",
    "    for t in word_vec:\n",
    "        total_counts[i]+=t[i]"
   ]
  },
  {
   "cell_type": "code",
   "execution_count": 169,
   "metadata": {},
   "outputs": [],
   "source": [
    "count_dict = (zip(words, total_counts))\n",
    "count_dict = sorted(count_dict, key=lambda x:x[1], reverse=True)[0:20]"
   ]
  },
  {
   "cell_type": "code",
   "execution_count": 170,
   "metadata": {
    "scrolled": false
   },
   "outputs": [
    {
     "data": {
      "image/png": "[encoded data removed]",
      "text/plain": [
       "<Figure size 1080x667.491 with 1 Axes>"
      ]
     },
     "metadata": {
      "needs_background": "light"
     },
     "output_type": "display_data"
    }
   ],
   "source": [
    "words = [w[0] for w in count_dict]\n",
    "counts = [w[1] for w in count_dict]\n",
    "x_pos = np.arange(len(words)) \n",
    "    \n",
    "plt.figure(2, figsize=(15, 15/1.6180))\n",
    "plt.subplot(title='20 most common words')\n",
    "sns.set_context(\"notebook\", font_scale=1.25, rc={\"lines.linewidth\": 2.5})\n",
    "sns.barplot(x_pos, counts, palette='husl')\n",
    "plt.xticks(x_pos, words, rotation=90) \n",
    "plt.xlabel('words')\n",
    "plt.ylabel('counts')\n",
    "plt.show()"
   ]
  },
  {
   "cell_type": "code",
   "execution_count": 163,
   "metadata": {},
   "outputs": [],
   "source": [
    "from sklearn.feature_extraction.text import CountVectorizer\n",
    "count_vectorizer = CountVectorizer()\n",
    "count_data = count_vectorizer.fit_transform(all_articles['stemmed'])\n",
    "words = count_vectorizer.get_feature_names()\n",
    "\n",
    "n_top_words = 20\n",
    "n_topics = 10\n",
    "\n",
    "model = LDA(n_topics)\n",
    "\n",
    "id_topic = model.fit_transform(count_data)\n",
    "\n",
    "topic_words = {}\n",
    "\n",
    "for topic, comp in enumerate(model.components_):\n",
    "    word_idx = np.argsort(comp)[::-1][:n_top_words]\n",
    "    # store the words most relevant to the topic\n",
    "    topic_words[topic] = [words[i] for i in word_idx]"
   ]
  },
  {
   "cell_type": "code",
   "execution_count": 164,
   "metadata": {
    "scrolled": true
   },
   "outputs": [
    {
     "name": "stdout",
     "output_type": "stream",
     "text": [
      "Topic: 0\n",
      "  mr, biden, said, ms, campaign, would, year, senat, owen, one, time, also, work, presid, famili, group, first, lhéritier, compani, includ\n",
      "Topic: 1\n",
      "  iowa, result, parti, state, mr, democrat, said, caucus, report, caucu, sander, precinct, deleg, candid, vote, campaign, new, call, buttigieg, offici\n",
      "Topic: 2\n",
      "  said, peopl, health, would, viru, coronaviru, compani, trump, mr, presid, year, like, state, new, worker, market, public, american, countri, outbreak\n",
      "Topic: 3\n",
      "  said, mr, peopl, like, trump, one, steyer, go, say, want, year, would, right, presid, time, think, first, ms, work, moor\n",
      "Topic: 4\n",
      "  mr, sander, biden, democrat, campaign, said, state, voter, buttigieg, candid, ms, support, new, warren, south, iowa, poll, primari, hampshir, former\n",
      "Topic: 5\n",
      "  mr, trump, presid, senat, said, republican, impeach, democrat, hous, vote, would, ukrain, investig, trial, state, polit, american, elect, justic, new\n",
      "Topic: 6\n",
      "  democrat, trump, candid, sander, said, vote, parti, mr, would, presid, one, like, elect, go, get, senat, debat, nomin, berni, peopl\n",
      "Topic: 7\n",
      "  new, year, time, one, said, like, peopl, report, american, trump, compani, live, get, countri, show, last, mr, state, democrat, week\n",
      "Topic: 8\n",
      "  mr, bloomberg, said, sander, would, campaign, debat, new, tax, candid, mayor, like, democrat, presid, one, peopl, warren, ms, time, trump\n",
      "Topic: 9\n",
      "  mr, trump, intellig, said, sander, elect, russia, presid, offici, democrat, would, russian, american, bloomberg, campaign, brief, one, billionair, polit, putin\n"
     ]
    }
   ],
   "source": [
    "for topic, words in topic_words.items():\n",
    "    print('Topic: %d' % topic)\n",
    "    print('  %s' % ', '.join(words))"
   ]
  },
  {
   "cell_type": "markdown",
   "metadata": {},
   "source": [
    "## Number of Candidate Mentions in Each Article"
   ]
  },
  {
   "cell_type": "markdown",
   "metadata": {},
   "source": [
    "This may not be accurate, since we are using last name to track occurences of Joe Biden, but is a close approximation. Also, mentions of family can also have similar impact to candidate mentions."
   ]
  },
  {
   "cell_type": "code",
   "execution_count": 193,
   "metadata": {},
   "outputs": [],
   "source": [
    "biden_counts = []\n",
    "sanders_counts = []\n",
    "\n",
    "for article in all_articles['article_text']:\n",
    "    article = article.lower()\n",
    "    biden = \"biden\"\n",
    "    sanders = \"sanders\"\n",
    "    biden_count = article.count(biden)\n",
    "    sanders_count = article.count(sanders)\n",
    "    biden_counts.append(biden_count)\n",
    "    sanders_counts.append(sanders_count)"
   ]
  },
  {
   "cell_type": "code",
   "execution_count": 196,
   "metadata": {},
   "outputs": [],
   "source": [
    "all_articles['biden_count'] = biden_counts\n",
    "all_articles['sanders_count'] = sanders_counts"
   ]
  },
  {
   "cell_type": "code",
   "execution_count": 200,
   "metadata": {},
   "outputs": [],
   "source": [
    "all_articles.loc[all_articles['biden_count'] > all_articles['sanders_count'], 'biden_most'] = 1\n",
    "all_articles.loc[all_articles['biden_count'] <= all_articles['sanders_count'], 'biden_most'] = 0\n",
    "\n",
    "all_articles.loc[all_articles['sanders_count'] > all_articles['biden_count'], 'sanders_most'] = 1\n",
    "all_articles.loc[all_articles['sanders_count'] <= all_articles['biden_count'], 'sanders_most'] = 0\n",
    "\n"
   ]
  },
  {
   "cell_type": "code",
   "execution_count": 201,
   "metadata": {},
   "outputs": [
    {
     "data": {
      "text/html": [
       "<div>\n",
       "<style scoped>\n",
       "    .dataframe tbody tr th:only-of-type {\n",
       "        vertical-align: middle;\n",
       "    }\n",
       "\n",
       "    .dataframe tbody tr th {\n",
       "        vertical-align: top;\n",
       "    }\n",
       "\n",
       "    .dataframe thead th {\n",
       "        text-align: right;\n",
       "    }\n",
       "</style>\n",
       "<table border=\"1\" class=\"dataframe\">\n",
       "  <thead>\n",
       "    <tr style=\"text-align: right;\">\n",
       "      <th></th>\n",
       "      <th>article_index</th>\n",
       "      <th>article_text</th>\n",
       "      <th>stemmed</th>\n",
       "      <th>word_vec</th>\n",
       "      <th>biden_count</th>\n",
       "      <th>sanders_count</th>\n",
       "      <th>polarity</th>\n",
       "      <th>subjectivity</th>\n",
       "      <th>biden_most</th>\n",
       "      <th>sanders_most</th>\n",
       "    </tr>\n",
       "  </thead>\n",
       "  <tbody>\n",
       "    <tr>\n",
       "      <th>0</th>\n",
       "      <td>10f</td>\n",
       "      <td>Before the first votes are cast in the Democra...</td>\n",
       "      <td>first vote cast democrat presidenti contest ne...</td>\n",
       "      <td>[1, 1, 1, 1, 1, 1, 1, 1, 1, 1, 1, 1, 1, 0, 1, ...</td>\n",
       "      <td>1</td>\n",
       "      <td>25</td>\n",
       "      <td>0.055522</td>\n",
       "      <td>0.370515</td>\n",
       "      <td>0.0</td>\n",
       "      <td>1.0</td>\n",
       "    </tr>\n",
       "    <tr>\n",
       "      <th>1</th>\n",
       "      <td>11f</td>\n",
       "      <td>DES MOINES — Once upon a time, the winner of t...</td>\n",
       "      <td>de moin upon time winner iowa caucus obviou ev...</td>\n",
       "      <td>[1, 1, 1, 0, 1, 0, 1, 1, 1, 1, 1, 1, 1, 1, 0, ...</td>\n",
       "      <td>2</td>\n",
       "      <td>2</td>\n",
       "      <td>0.189676</td>\n",
       "      <td>0.513270</td>\n",
       "      <td>0.0</td>\n",
       "      <td>0.0</td>\n",
       "    </tr>\n",
       "    <tr>\n",
       "      <th>2</th>\n",
       "      <td>12f</td>\n",
       "      <td>SIOUX CITY, Iowa — After a long campaign of id...</td>\n",
       "      <td>sioux citi iowa long campaign ideolog clash po...</td>\n",
       "      <td>[1, 1, 1, 1, 1, 1, 1, 1, 1, 1, 1, 1, 1, 0, 1, ...</td>\n",
       "      <td>6</td>\n",
       "      <td>11</td>\n",
       "      <td>0.119406</td>\n",
       "      <td>0.394641</td>\n",
       "      <td>0.0</td>\n",
       "      <td>1.0</td>\n",
       "    </tr>\n",
       "    <tr>\n",
       "      <th>3</th>\n",
       "      <td>13f</td>\n",
       "      <td>CENTERVILLE, Iowa — Jill Biden was torn. Three...</td>\n",
       "      <td>centervil iowa jill biden torn three month jos...</td>\n",
       "      <td>[1, 1, 1, 1, 0, 1, 1, 1, 1, 1, 0, 1, 1, 0, 1, ...</td>\n",
       "      <td>55</td>\n",
       "      <td>0</td>\n",
       "      <td>0.121181</td>\n",
       "      <td>0.405113</td>\n",
       "      <td>1.0</td>\n",
       "      <td>0.0</td>\n",
       "    </tr>\n",
       "    <tr>\n",
       "      <th>4</th>\n",
       "      <td>22f</td>\n",
       "      <td>DES MOINES — For a full year, Democrats owned ...</td>\n",
       "      <td>de moin full year democrat own iowa spotlight ...</td>\n",
       "      <td>[1, 1, 1, 1, 1, 1, 1, 1, 1, 1, 1, 1, 1, 0, 1, ...</td>\n",
       "      <td>1</td>\n",
       "      <td>1</td>\n",
       "      <td>0.178915</td>\n",
       "      <td>0.428993</td>\n",
       "      <td>0.0</td>\n",
       "      <td>0.0</td>\n",
       "    </tr>\n",
       "  </tbody>\n",
       "</table>\n",
       "</div>"
      ],
      "text/plain": [
       "  article_index                                       article_text  \\\n",
       "0           10f  Before the first votes are cast in the Democra...   \n",
       "1           11f  DES MOINES — Once upon a time, the winner of t...   \n",
       "2           12f  SIOUX CITY, Iowa — After a long campaign of id...   \n",
       "3           13f  CENTERVILLE, Iowa — Jill Biden was torn. Three...   \n",
       "4           22f  DES MOINES — For a full year, Democrats owned ...   \n",
       "\n",
       "                                             stemmed  \\\n",
       "0  first vote cast democrat presidenti contest ne...   \n",
       "1  de moin upon time winner iowa caucus obviou ev...   \n",
       "2  sioux citi iowa long campaign ideolog clash po...   \n",
       "3  centervil iowa jill biden torn three month jos...   \n",
       "4  de moin full year democrat own iowa spotlight ...   \n",
       "\n",
       "                                            word_vec  biden_count  \\\n",
       "0  [1, 1, 1, 1, 1, 1, 1, 1, 1, 1, 1, 1, 1, 0, 1, ...            1   \n",
       "1  [1, 1, 1, 0, 1, 0, 1, 1, 1, 1, 1, 1, 1, 1, 0, ...            2   \n",
       "2  [1, 1, 1, 1, 1, 1, 1, 1, 1, 1, 1, 1, 1, 0, 1, ...            6   \n",
       "3  [1, 1, 1, 1, 0, 1, 1, 1, 1, 1, 0, 1, 1, 0, 1, ...           55   \n",
       "4  [1, 1, 1, 1, 1, 1, 1, 1, 1, 1, 1, 1, 1, 0, 1, ...            1   \n",
       "\n",
       "   sanders_count  polarity  subjectivity  biden_most  sanders_most  \n",
       "0             25  0.055522      0.370515         0.0           1.0  \n",
       "1              2  0.189676      0.513270         0.0           0.0  \n",
       "2             11  0.119406      0.394641         0.0           1.0  \n",
       "3              0  0.121181      0.405113         1.0           0.0  \n",
       "4              1  0.178915      0.428993         0.0           0.0  "
      ]
     },
     "execution_count": 201,
     "metadata": {},
     "output_type": "execute_result"
    }
   ],
   "source": [
    "all_articles.head()"
   ]
  },
  {
   "cell_type": "markdown",
   "metadata": {},
   "source": [
    "## Sentiment Analysis"
   ]
  },
  {
   "cell_type": "code",
   "execution_count": 173,
   "metadata": {},
   "outputs": [],
   "source": [
    "from textblob import TextBlob"
   ]
  },
  {
   "cell_type": "code",
   "execution_count": 176,
   "metadata": {},
   "outputs": [
    {
     "data": {
      "text/plain": [
       "<zip at 0x1a327b6808>"
      ]
     },
     "execution_count": 176,
     "metadata": {},
     "output_type": "execute_result"
    }
   ],
   "source": [
    "index_list = list(range(0,len(all_articles['article_text']),1))\n",
    "polarity_list = []\n",
    "subjectivity_list = []\n",
    "\n",
    "for article in all_articles['article_text']:\n",
    "    article_blob = TextBlob(article)\n",
    "    polarity = article_blob.sentiment.polarity\n",
    "    subjectivity = article_blob.sentiment.subjectivity\n",
    "    polarity_list.append(polarity)\n",
    "    subjectivity_list.append(subjectivity)\n",
    "    "
   ]
  },
  {
   "cell_type": "raw",
   "metadata": {},
   "source": [
    "sentiment_df = pd.DataFrame(list(zip(polarity_list,subjectivity_list)), \n",
    "               columns =['polarity', 'subjectivity'], index = index_list) "
   ]
  },
  {
   "cell_type": "code",
   "execution_count": 191,
   "metadata": {},
   "outputs": [
    {
     "data": {
      "text/html": [
       "<div>\n",
       "<style scoped>\n",
       "    .dataframe tbody tr th:only-of-type {\n",
       "        vertical-align: middle;\n",
       "    }\n",
       "\n",
       "    .dataframe tbody tr th {\n",
       "        vertical-align: top;\n",
       "    }\n",
       "\n",
       "    .dataframe thead th {\n",
       "        text-align: right;\n",
       "    }\n",
       "</style>\n",
       "<table border=\"1\" class=\"dataframe\">\n",
       "  <thead>\n",
       "    <tr style=\"text-align: right;\">\n",
       "      <th></th>\n",
       "      <th>polarity</th>\n",
       "      <th>subjectivity</th>\n",
       "    </tr>\n",
       "  </thead>\n",
       "  <tbody>\n",
       "    <tr>\n",
       "      <th>0</th>\n",
       "      <td>0.055522</td>\n",
       "      <td>0.370515</td>\n",
       "    </tr>\n",
       "    <tr>\n",
       "      <th>1</th>\n",
       "      <td>0.189676</td>\n",
       "      <td>0.513270</td>\n",
       "    </tr>\n",
       "    <tr>\n",
       "      <th>2</th>\n",
       "      <td>0.119406</td>\n",
       "      <td>0.394641</td>\n",
       "    </tr>\n",
       "    <tr>\n",
       "      <th>3</th>\n",
       "      <td>0.121181</td>\n",
       "      <td>0.405113</td>\n",
       "    </tr>\n",
       "    <tr>\n",
       "      <th>4</th>\n",
       "      <td>0.178915</td>\n",
       "      <td>0.428993</td>\n",
       "    </tr>\n",
       "  </tbody>\n",
       "</table>\n",
       "</div>"
      ],
      "text/plain": [
       "   polarity  subjectivity\n",
       "0  0.055522      0.370515\n",
       "1  0.189676      0.513270\n",
       "2  0.119406      0.394641\n",
       "3  0.121181      0.405113\n",
       "4  0.178915      0.428993"
      ]
     },
     "execution_count": 191,
     "metadata": {},
     "output_type": "execute_result"
    }
   ],
   "source": [
    "sentiment_df.head()"
   ]
  },
  {
   "cell_type": "code",
   "execution_count": 198,
   "metadata": {},
   "outputs": [],
   "source": [
    "all_articles['polarity'] = polarity_list\n",
    "all_articles['subjectivity'] = subjectivity_list"
   ]
  },
  {
   "cell_type": "code",
   "execution_count": 202,
   "metadata": {},
   "outputs": [
    {
     "data": {
      "text/html": [
       "<div>\n",
       "<style scoped>\n",
       "    .dataframe tbody tr th:only-of-type {\n",
       "        vertical-align: middle;\n",
       "    }\n",
       "\n",
       "    .dataframe tbody tr th {\n",
       "        vertical-align: top;\n",
       "    }\n",
       "\n",
       "    .dataframe thead th {\n",
       "        text-align: right;\n",
       "    }\n",
       "</style>\n",
       "<table border=\"1\" class=\"dataframe\">\n",
       "  <thead>\n",
       "    <tr style=\"text-align: right;\">\n",
       "      <th></th>\n",
       "      <th>article_index</th>\n",
       "      <th>article_text</th>\n",
       "      <th>stemmed</th>\n",
       "      <th>word_vec</th>\n",
       "      <th>biden_count</th>\n",
       "      <th>sanders_count</th>\n",
       "      <th>polarity</th>\n",
       "      <th>subjectivity</th>\n",
       "      <th>biden_most</th>\n",
       "      <th>sanders_most</th>\n",
       "    </tr>\n",
       "  </thead>\n",
       "  <tbody>\n",
       "    <tr>\n",
       "      <th>0</th>\n",
       "      <td>10f</td>\n",
       "      <td>Before the first votes are cast in the Democra...</td>\n",
       "      <td>first vote cast democrat presidenti contest ne...</td>\n",
       "      <td>[1, 1, 1, 1, 1, 1, 1, 1, 1, 1, 1, 1, 1, 0, 1, ...</td>\n",
       "      <td>1</td>\n",
       "      <td>25</td>\n",
       "      <td>0.055522</td>\n",
       "      <td>0.370515</td>\n",
       "      <td>0.0</td>\n",
       "      <td>1.0</td>\n",
       "    </tr>\n",
       "    <tr>\n",
       "      <th>1</th>\n",
       "      <td>11f</td>\n",
       "      <td>DES MOINES — Once upon a time, the winner of t...</td>\n",
       "      <td>de moin upon time winner iowa caucus obviou ev...</td>\n",
       "      <td>[1, 1, 1, 0, 1, 0, 1, 1, 1, 1, 1, 1, 1, 1, 0, ...</td>\n",
       "      <td>2</td>\n",
       "      <td>2</td>\n",
       "      <td>0.189676</td>\n",
       "      <td>0.513270</td>\n",
       "      <td>0.0</td>\n",
       "      <td>0.0</td>\n",
       "    </tr>\n",
       "    <tr>\n",
       "      <th>2</th>\n",
       "      <td>12f</td>\n",
       "      <td>SIOUX CITY, Iowa — After a long campaign of id...</td>\n",
       "      <td>sioux citi iowa long campaign ideolog clash po...</td>\n",
       "      <td>[1, 1, 1, 1, 1, 1, 1, 1, 1, 1, 1, 1, 1, 0, 1, ...</td>\n",
       "      <td>6</td>\n",
       "      <td>11</td>\n",
       "      <td>0.119406</td>\n",
       "      <td>0.394641</td>\n",
       "      <td>0.0</td>\n",
       "      <td>1.0</td>\n",
       "    </tr>\n",
       "    <tr>\n",
       "      <th>3</th>\n",
       "      <td>13f</td>\n",
       "      <td>CENTERVILLE, Iowa — Jill Biden was torn. Three...</td>\n",
       "      <td>centervil iowa jill biden torn three month jos...</td>\n",
       "      <td>[1, 1, 1, 1, 0, 1, 1, 1, 1, 1, 0, 1, 1, 0, 1, ...</td>\n",
       "      <td>55</td>\n",
       "      <td>0</td>\n",
       "      <td>0.121181</td>\n",
       "      <td>0.405113</td>\n",
       "      <td>1.0</td>\n",
       "      <td>0.0</td>\n",
       "    </tr>\n",
       "    <tr>\n",
       "      <th>4</th>\n",
       "      <td>22f</td>\n",
       "      <td>DES MOINES — For a full year, Democrats owned ...</td>\n",
       "      <td>de moin full year democrat own iowa spotlight ...</td>\n",
       "      <td>[1, 1, 1, 1, 1, 1, 1, 1, 1, 1, 1, 1, 1, 0, 1, ...</td>\n",
       "      <td>1</td>\n",
       "      <td>1</td>\n",
       "      <td>0.178915</td>\n",
       "      <td>0.428993</td>\n",
       "      <td>0.0</td>\n",
       "      <td>0.0</td>\n",
       "    </tr>\n",
       "  </tbody>\n",
       "</table>\n",
       "</div>"
      ],
      "text/plain": [
       "  article_index                                       article_text  \\\n",
       "0           10f  Before the first votes are cast in the Democra...   \n",
       "1           11f  DES MOINES — Once upon a time, the winner of t...   \n",
       "2           12f  SIOUX CITY, Iowa — After a long campaign of id...   \n",
       "3           13f  CENTERVILLE, Iowa — Jill Biden was torn. Three...   \n",
       "4           22f  DES MOINES — For a full year, Democrats owned ...   \n",
       "\n",
       "                                             stemmed  \\\n",
       "0  first vote cast democrat presidenti contest ne...   \n",
       "1  de moin upon time winner iowa caucus obviou ev...   \n",
       "2  sioux citi iowa long campaign ideolog clash po...   \n",
       "3  centervil iowa jill biden torn three month jos...   \n",
       "4  de moin full year democrat own iowa spotlight ...   \n",
       "\n",
       "                                            word_vec  biden_count  \\\n",
       "0  [1, 1, 1, 1, 1, 1, 1, 1, 1, 1, 1, 1, 1, 0, 1, ...            1   \n",
       "1  [1, 1, 1, 0, 1, 0, 1, 1, 1, 1, 1, 1, 1, 1, 0, ...            2   \n",
       "2  [1, 1, 1, 1, 1, 1, 1, 1, 1, 1, 1, 1, 1, 0, 1, ...            6   \n",
       "3  [1, 1, 1, 1, 0, 1, 1, 1, 1, 1, 0, 1, 1, 0, 1, ...           55   \n",
       "4  [1, 1, 1, 1, 1, 1, 1, 1, 1, 1, 1, 1, 1, 0, 1, ...            1   \n",
       "\n",
       "   sanders_count  polarity  subjectivity  biden_most  sanders_most  \n",
       "0             25  0.055522      0.370515         0.0           1.0  \n",
       "1              2  0.189676      0.513270         0.0           0.0  \n",
       "2             11  0.119406      0.394641         0.0           1.0  \n",
       "3              0  0.121181      0.405113         1.0           0.0  \n",
       "4              1  0.178915      0.428993         0.0           0.0  "
      ]
     },
     "execution_count": 202,
     "metadata": {},
     "output_type": "execute_result"
    }
   ],
   "source": [
    "all_articles.head()"
   ]
  },
  {
   "cell_type": "code",
   "execution_count": 204,
   "metadata": {},
   "outputs": [],
   "source": [
    "articles_biden_sanders = all_articles[all_articles['biden_count'] != all_articles['sanders_count']]\n",
    "\n"
   ]
  },
  {
   "cell_type": "code",
   "execution_count": 236,
   "metadata": {},
   "outputs": [
    {
     "data": {
      "text/plain": [
       "209.0"
      ]
     },
     "execution_count": 236,
     "metadata": {},
     "output_type": "execute_result"
    }
   ],
   "source": [
    "np.sum(articles_biden_sanders['biden_most'])"
   ]
  },
  {
   "cell_type": "code",
   "execution_count": 237,
   "metadata": {},
   "outputs": [
    {
     "data": {
      "text/plain": [
       "515.0"
      ]
     },
     "execution_count": 237,
     "metadata": {},
     "output_type": "execute_result"
    }
   ],
   "source": [
    "np.sum(articles_biden_sanders['sanders_most'])"
   ]
  },
  {
   "cell_type": "code",
   "execution_count": 233,
   "metadata": {},
   "outputs": [
    {
     "data": {
      "text/plain": [
       "biden_most\n",
       "0.0    0.053012\n",
       "1.0    0.050445\n",
       "Name: polarity, dtype: float64"
      ]
     },
     "execution_count": 233,
     "metadata": {},
     "output_type": "execute_result"
    }
   ],
   "source": [
    "articles_biden_sanders.groupby('biden_most')['polarity'].std()"
   ]
  },
  {
   "cell_type": "code",
   "execution_count": 231,
   "metadata": {},
   "outputs": [
    {
     "data": {
      "text/plain": [
       "<matplotlib.axes._subplots.AxesSubplot at 0x1a31ea9748>"
      ]
     },
     "execution_count": 231,
     "metadata": {},
     "output_type": "execute_result"
    },
    {
     "data": {
      "image/png": "[encoded data removed]",
      "text/plain": [
       "<Figure size 432x288 with 1 Axes>"
      ]
     },
     "metadata": {
      "needs_background": "light"
     },
     "output_type": "display_data"
    }
   ],
   "source": [
    "polarity_chart = articles_biden_sanders.groupby('biden_most')['polarity'].mean()\n",
    "polarity_chart.plot(\"bar\", yerr=[[0.053, 0.050], [0.050, 0.053]])\n"
   ]
  },
  {
   "cell_type": "code",
   "execution_count": 234,
   "metadata": {},
   "outputs": [
    {
     "data": {
      "text/plain": [
       "biden_most\n",
       "0.0    0.055889\n",
       "1.0    0.062244\n",
       "Name: subjectivity, dtype: float64"
      ]
     },
     "execution_count": 234,
     "metadata": {},
     "output_type": "execute_result"
    }
   ],
   "source": [
    "articles_biden_sanders.groupby('biden_most')['subjectivity'].std()"
   ]
  },
  {
   "cell_type": "code",
   "execution_count": 235,
   "metadata": {},
   "outputs": [
    {
     "data": {
      "text/plain": [
       "<matplotlib.axes._subplots.AxesSubplot at 0x1a320006d8>"
      ]
     },
     "execution_count": 235,
     "metadata": {},
     "output_type": "execute_result"
    },
    {
     "data": {
      "image/png": "[encoded data removed]",
      "text/plain": [
       "<Figure size 432x288 with 1 Axes>"
      ]
     },
     "metadata": {
      "needs_background": "light"
     },
     "output_type": "display_data"
    }
   ],
   "source": [
    "subjectivity_chart = articles_biden_sanders.groupby('biden_most')['subjectivity'].mean()\n",
    "subjectivity_chart.plot(\"bar\", yerr=[[0.055, 0.062], [0.062, 0.055]])\n"
   ]
  }
 ],
 "metadata": {
  "hide_input": false,
  "kernelspec": {
   "display_name": "Python 3",
   "language": "python",
   "name": "python3"
  },
  "language_info": {
   "codemirror_mode": {
    "name": "ipython",
    "version": 3
   },
   "file_extension": ".py",
   "mimetype": "text/x-python",
   "name": "python",
   "nbconvert_exporter": "python",
   "pygments_lexer": "ipython3",
   "version": "3.7.6"
  },
  "toc": {
   "base_numbering": 1,
   "nav_menu": {},
   "number_sections": false,
   "sideBar": true,
   "skip_h1_title": false,
   "title_cell": "Table of Contents",
   "title_sidebar": "Contents",
   "toc_cell": true,
   "toc_position": {},
   "toc_section_display": true,
   "toc_window_display": false
  },
  "varInspector": {
   "cols": {
    "lenName": 16,
    "lenType": 16,
    "lenVar": 40
   },
   "kernels_config": {
    "python": {
     "delete_cmd_postfix": "",
     "delete_cmd_prefix": "del ",
     "library": "var_list.py",
     "varRefreshCmd": "print(var_dic_list())"
    },
    "r": {
     "delete_cmd_postfix": ") ",
     "delete_cmd_prefix": "rm(",
     "library": "var_list.r",
     "varRefreshCmd": "cat(var_dic_list()) "
    }
   },
   "types_to_exclude": [
    "module",
    "function",
    "builtin_function_or_method",
    "instance",
    "_Feature"
   ],
   "window_display": false
  }
 },
 "nbformat": 4,
 "nbformat_minor": 2
}
